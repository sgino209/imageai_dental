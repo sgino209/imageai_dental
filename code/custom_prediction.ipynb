{
 "cells": [
  {
   "cell_type": "markdown",
   "id": "brief-paste",
   "metadata": {},
   "source": [
    "# Custom Prediction"
   ]
  },
  {
   "cell_type": "markdown",
   "id": "french-whale",
   "metadata": {},
   "source": [
    "Reference: https://imageai.readthedocs.io/en/latest/customdetection"
   ]
  },
  {
   "cell_type": "markdown",
   "id": "serial-helping",
   "metadata": {},
   "source": [
    "## Input Image"
   ]
  },
  {
   "cell_type": "code",
   "execution_count": null,
   "id": "complimentary-prisoner",
   "metadata": {},
   "outputs": [],
   "source": [
    "import os\n",
    "from IPython.display import display\n",
    "from PIL import Image\n",
    "from imageai.Detection.Custom import CustomObjectDetection\n",
    "\n",
    "input_dir = \"dataset/train/images\"\n",
    "output_img = \"image1-detected.jpg\"\n",
    "model_path = \"dataset/models/detection_model-ex-015--loss-0012.598.h5\" \n",
    "\n",
    "for f in os.listdir(input_dir):\n",
    "    \n",
    "    input_img = os.path.join(input_dir, f)\n",
    "\n",
    "    detector = CustomObjectDetection()\n",
    "    detector.setModelTypeAsYOLOv3()\n",
    "    detector.setModelPath(model_path)\n",
    "    detector.setJsonPath(\"dataset/json/detection_config.json\")\n",
    "    detector.loadModel()\n",
    "    detections = detector.detectObjectsFromImage(input_image=input_img, \n",
    "                                                 output_image_path=output_img)\n",
    "\n",
    "    print('%s: Found %d detections' % (input_img, len(detections)))\n",
    "    \n",
    "    for detection in detections:\n",
    "        print(detection[\"name\"], \" : \", detection[\"percentage_probability\"], \" : \", detection[\"box_points\"])\n",
    "\n",
    "    if detections:\n",
    "        display(Image.open(output_img))\n",
    "        break"
   ]
  },
  {
   "cell_type": "markdown",
   "id": "faced-bones",
   "metadata": {},
   "source": [
    "## Input Video"
   ]
  },
  {
   "cell_type": "code",
   "execution_count": null,
   "id": "virgin-canyon",
   "metadata": {},
   "outputs": [],
   "source": [
    "from os import getcwd, path\n",
    "from imageai.Detection.Custom import CustomVideoObjectDetection\n",
    "\n",
    "execution_path = getcwd()\n",
    "\n",
    "video_detector = CustomVideoObjectDetection()\n",
    "video_detector.setModelTypeAsYOLOv3()\n",
    "video_detector.setModelPath(\"dataset/models/dataset-ex-60--loss-2.76.h5\")\n",
    "video_detector.setJsonPath(\"dataset/json/detection_config.json\")\n",
    "video_detector.loadModel()\n",
    "\n",
    "video_detector.detectObjectsFromVideo(input_file_path=\"video1.mp4\",\n",
    "                                      output_file_path=path.join(execution_path, \"video1-detected\"),\n",
    "                                      frames_per_second=30,\n",
    "                                      minimum_percentage_probability=40,\n",
    "                                      log_progress=True)"
   ]
  }
 ],
 "metadata": {
  "kernelspec": {
   "display_name": "Python 3",
   "language": "python",
   "name": "python3"
  },
  "language_info": {
   "codemirror_mode": {
    "name": "ipython",
    "version": 3
   },
   "file_extension": ".py",
   "mimetype": "text/x-python",
   "name": "python",
   "nbconvert_exporter": "python",
   "pygments_lexer": "ipython3",
   "version": "3.8.7"
  }
 },
 "nbformat": 4,
 "nbformat_minor": 5
}
