{
 "cells": [
  {
   "cell_type": "markdown",
   "id": "revised-prophet",
   "metadata": {},
   "source": [
    "# Custom Training"
   ]
  },
  {
   "cell_type": "markdown",
   "id": "adequate-mention",
   "metadata": {},
   "source": [
    "Reference: https://imageai.readthedocs.io/en/latest/customdetection"
   ]
  },
  {
   "cell_type": "code",
   "execution_count": null,
   "id": "helpful-geography",
   "metadata": {},
   "outputs": [
    {
     "name": "stdout",
     "output_type": "stream",
     "text": [
      "Generating anchor boxes for training images and annotation...\n",
      "Average IOU for 9 anchors: 0.62\n",
      "Anchor Boxes generated.\n",
      "Detection configuration saved in  dataset/json/detection_config.json\n",
      "Evaluating over 1122 samples taken from dataset/validation\n",
      "Training over 4223 samples  given at dataset/train\n",
      "Training on: \t['Attachedgingiva', 'Enamel', 'Lip', 'Marginalgingiva', 'Metal', 'Oralmucosa', 'Outoffocusarea', 'Plastic', 'Skin', 'Stain']\n",
      "Training with Batch Size:  4\n",
      "Number of Training Samples:  4223\n",
      "Number of Validation Samples:  1122\n",
      "Number of Experiments:  200\n",
      "Training with transfer learning from pretrained Model\n",
      "WARNING:tensorflow:`period` argument is deprecated. Please use `save_freq` to specify the frequency in number of batches seen.\n",
      "WARNING:tensorflow:`epsilon` argument is deprecated and will be removed, use `min_delta` instead.\n",
      "WARNING:tensorflow:Model failed to serialize as JSON. Ignoring... Layer YoloLayer has arguments in `__init__` and therefore must override `get_config`.\n",
      "Epoch 1/200\n"
     ]
    },
    {
     "name": "stderr",
     "output_type": "stream",
     "text": [
      "/Users/shahargino/Projects/imageai_dental/env/lib/python3.8/site-packages/tensorflow/python/keras/engine/training.py:1844: UserWarning: `Model.fit_generator` is deprecated and will be removed in a future version. Please use `Model.fit`, which supports generators.\n",
      "  warnings.warn('`Model.fit_generator` is deprecated and '\n",
      "/Users/shahargino/Projects/imageai_dental/env/lib/python3.8/site-packages/tensorflow/python/data/ops/dataset_ops.py:3503: UserWarning: Even though the tf.config.experimental_run_functions_eagerly option is set, this option does not apply to tf.data functions. tf.data functions are still traced and executed as graphs.\n",
      "  warnings.warn(\n"
     ]
    },
    {
     "name": "stdout",
     "output_type": "stream",
     "text": [
      "6206/8448 [=====================>........] - ETA: 1:52:05 - loss: 23.7167 - yolo_layer_loss: 1.9264 - yolo_layer_1_loss: 4.2906 - yolo_layer_2_loss: 12.8172"
     ]
    }
   ],
   "source": [
    "from imageai.Detection.Custom import DetectionModelTrainer\n",
    "\n",
    "trainer = DetectionModelTrainer()\n",
    "trainer.setModelTypeAsYOLOv3()\n",
    "trainer.setDataDirectory(data_directory=\"dataset\")\n",
    "\n",
    "# Training:\n",
    "trainer.setTrainConfig(object_names_array=['Enamel', 'Marginalgingiva', 'Attachedgingiva', 'Metal', 'Skin', \n",
    "                                           'Oralmucosa', 'Plastic', 'Outoffocusarea', 'Lip', 'Stain'],\n",
    "                       batch_size=4,\n",
    "                       num_experiments=200,\n",
    "                       train_from_pretrained_model=\"models/pretrained-yolov3.h5\")\n",
    "trainer.trainModel()\n",
    "\n",
    "# Model Evaluation:\n",
    "metrics = trainer.evaluateModel(model_path=\"dataset/models\", \n",
    "                                json_path=\"dataset/json/detection_config.json\",\n",
    "                                iou_threshold=0.5, \n",
    "                                object_threshold=0.3, \n",
    "                                nms_threshold=0.5)\n",
    "print(metrics)"
   ]
  }
 ],
 "metadata": {
  "kernelspec": {
   "display_name": "Python 3",
   "language": "python",
   "name": "python3"
  },
  "language_info": {
   "codemirror_mode": {
    "name": "ipython",
    "version": 3
   },
   "file_extension": ".py",
   "mimetype": "text/x-python",
   "name": "python",
   "nbconvert_exporter": "python",
   "pygments_lexer": "ipython3",
   "version": "3.8.7"
  }
 },
 "nbformat": 4,
 "nbformat_minor": 5
}
