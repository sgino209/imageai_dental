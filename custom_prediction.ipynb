{
 "cells": [
  {
   "cell_type": "markdown",
   "id": "brief-paste",
   "metadata": {},
   "source": [
    "# Custom Prediction"
   ]
  },
  {
   "cell_type": "markdown",
   "id": "french-whale",
   "metadata": {},
   "source": [
    "Reference: https://imageai.readthedocs.io/en/latest/customdetection"
   ]
  },
  {
   "cell_type": "markdown",
   "id": "serial-helping",
   "metadata": {},
   "source": [
    "## Input Image"
   ]
  },
  {
   "cell_type": "code",
   "execution_count": null,
   "id": "complimentary-prisoner",
   "metadata": {},
   "outputs": [],
   "source": [
    "from imageai.Detection.Custom import CustomObjectDetection\n",
    "\n",
    "detector = CustomObjectDetection()\n",
    "detector.setModelTypeAsYOLOv3()\n",
    "detector.setModelPath(\"dataset/models/dataset-ex-60--loss-2.76.h5\")\n",
    "detector.setJsonPath(\"dataset/json/detection_config.json\")\n",
    "detector.loadModel()\n",
    "detections = detector.detectObjectsFromImage(input_image=\"image1.jpg\", \n",
    "                                             output_image_path=\"image1-detected.jpg\")\n",
    "for detection in detections:\n",
    "    print(detection[\"name\"], \" : \", detection[\"percentage_probability\"], \" : \", detection[\"box_points\"])"
   ]
  },
  {
   "cell_type": "markdown",
   "id": "faced-bones",
   "metadata": {},
   "source": [
    "## Input Video"
   ]
  },
  {
   "cell_type": "code",
   "execution_count": null,
   "id": "virgin-canyon",
   "metadata": {},
   "outputs": [],
   "source": [
    "from os import getcwd, path\n",
    "from imageai.Detection.Custom import CustomVideoObjectDetection\n",
    "\n",
    "execution_path = getcwd()\n",
    "\n",
    "video_detector = CustomVideoObjectDetection()\n",
    "video_detector.setModelTypeAsYOLOv3()\n",
    "video_detector.setModelPath(\"dataset/models/dataset-ex-60--loss-2.76.h5\")\n",
    "video_detector.setJsonPath(\"dataset/json/detection_config.json\")\n",
    "video_detector.loadModel()\n",
    "\n",
    "video_detector.detectObjectsFromVideo(input_file_path=\"video1.mp4\",\n",
    "                                      output_file_path=path.join(execution_path, \"video1-detected\"),\n",
    "                                      frames_per_second=30,\n",
    "                                      minimum_percentage_probability=40,\n",
    "                                      log_progress=True)"
   ]
  }
 ],
 "metadata": {
  "kernelspec": {
   "display_name": "Python 3",
   "language": "python",
   "name": "python3"
  },
  "language_info": {
   "codemirror_mode": {
    "name": "ipython",
    "version": 3
   },
   "file_extension": ".py",
   "mimetype": "text/x-python",
   "name": "python",
   "nbconvert_exporter": "python",
   "pygments_lexer": "ipython3",
   "version": "3.8.7"
  }
 },
 "nbformat": 4,
 "nbformat_minor": 5
}
